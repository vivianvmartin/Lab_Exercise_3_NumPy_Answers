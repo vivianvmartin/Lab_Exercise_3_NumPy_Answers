{
 "cells": [
  {
   "cell_type": "markdown",
   "metadata": {},
   "source": [
    "# Numpy Exercise  <img src = \"numpy1.png\">\n",
    "###### Authored by T.K.Senthil Kumar"
   ]
  },
  {
   "cell_type": "code",
   "execution_count": 1,
   "metadata": {},
   "outputs": [],
   "source": [
    "import numpy as np\n",
    "from matplotlib import pyplot as plt"
   ]
  },
  {
   "cell_type": "markdown",
   "metadata": {},
   "source": [
    "#### 1. Create a numpy array with the number of elements equals your age. The value of array elements is a random number between 10 to your age "
   ]
  },
  {
   "cell_type": "code",
   "execution_count": 2,
   "metadata": {},
   "outputs": [
    {
     "data": {
      "text/plain": [
       "array([10, 20, 19, 19, 17, 10, 20, 21, 13, 16, 17, 14, 21, 16, 18, 12, 15,\n",
       "       20, 19, 17, 18])"
      ]
     },
     "execution_count": 2,
     "metadata": {},
     "output_type": "execute_result"
    }
   ],
   "source": [
    "#Solution\n",
    "age=np.random.randint(10,22,21)\n",
    "age\n",
    "\n"
   ]
  },
  {
   "cell_type": "markdown",
   "metadata": {},
   "source": [
    "#### 2. Create a numpy array between 1 to 50 with the span(space) of 2 and print the length of the array"
   ]
  },
  {
   "cell_type": "code",
   "execution_count": 3,
   "metadata": {},
   "outputs": [
    {
     "name": "stdout",
     "output_type": "stream",
     "text": [
      "[ 1  3  5  7  9 11 13 15 17 19 21 23 25 27 29 31 33 35 37 39 41 43 45 47\n",
      " 49]\n"
     ]
    },
    {
     "data": {
      "text/plain": [
       "25"
      ]
     },
     "execution_count": 3,
     "metadata": {},
     "output_type": "execute_result"
    }
   ],
   "source": [
    "# Solution\n",
    "length=np.arange(1,50,2)\n",
    "print(length)\n",
    "len(length)\n",
    "\n"
   ]
  },
  {
   "cell_type": "markdown",
   "metadata": {},
   "source": [
    "#### 3. Create an equally spaced numpy array with 27 elements between 4 and 7 "
   ]
  },
  {
   "cell_type": "code",
   "execution_count": 4,
   "metadata": {},
   "outputs": [
    {
     "data": {
      "text/plain": [
       "array([4.        , 4.11538462, 4.23076923, 4.34615385, 4.46153846,\n",
       "       4.57692308, 4.69230769, 4.80769231, 4.92307692, 5.03846154,\n",
       "       5.15384615, 5.26923077, 5.38461538, 5.5       , 5.61538462,\n",
       "       5.73076923, 5.84615385, 5.96153846, 6.07692308, 6.19230769,\n",
       "       6.30769231, 6.42307692, 6.53846154, 6.65384615, 6.76923077,\n",
       "       6.88461538, 7.        ])"
      ]
     },
     "execution_count": 4,
     "metadata": {},
     "output_type": "execute_result"
    }
   ],
   "source": [
    "# Solution\n",
    "lin=np.linspace(4,7,27)\n",
    "lin\n"
   ]
  },
  {
   "cell_type": "markdown",
   "metadata": {},
   "source": [
    "#### 4. Create a matrix of size (5 x 4) with random numbers and round off the each elements by only 2 fractional points."
   ]
  },
  {
   "cell_type": "code",
   "execution_count": 5,
   "metadata": {},
   "outputs": [
    {
     "data": {
      "text/plain": [
       "array([[0.79, 0.62, 0.5 , 0.6 ],\n",
       "       [0.7 , 0.73, 0.26, 0.74],\n",
       "       [0.26, 0.08, 0.75, 0.07],\n",
       "       [0.32, 0.96, 0.6 , 0.85],\n",
       "       [0.58, 0.79, 0.43, 0.89]])"
      ]
     },
     "execution_count": 5,
     "metadata": {},
     "output_type": "execute_result"
    }
   ],
   "source": [
    "# Solution\n",
    "\n",
    "mat=np.random.random((5,4))\n",
    "mat_round=np.round(mat,2)\n",
    "mat_round"
   ]
  },
  {
   "cell_type": "markdown",
   "metadata": {},
   "source": [
    "#### 5. Create a matrix of size (5x5) with random integers between 5 to 15"
   ]
  },
  {
   "cell_type": "code",
   "execution_count": 6,
   "metadata": {},
   "outputs": [
    {
     "data": {
      "text/plain": [
       "array([[ 7,  6, 11,  8,  9],\n",
       "       [10, 13, 12,  5, 11],\n",
       "       [13, 11,  8,  7,  8],\n",
       "       [14, 12,  8, 12,  7],\n",
       "       [10, 12, 11, 14,  7]])"
      ]
     },
     "execution_count": 6,
     "metadata": {},
     "output_type": "execute_result"
    }
   ],
   "source": [
    "# Solution\n",
    "rand=np.random.randint(5,15,(5,5))\n",
    "rand\n"
   ]
  },
  {
   "cell_type": "markdown",
   "metadata": {},
   "source": [
    "#### 6. Create the one dimensional array of zeros of random length below 20 with the data type int32"
   ]
  },
  {
   "cell_type": "code",
   "execution_count": 7,
   "metadata": {},
   "outputs": [
    {
     "name": "stdout",
     "output_type": "stream",
     "text": [
      "[[0 0 0 0 0 0 0 0 0 0 0 0 0 0 0 0 0 0 0 0]]\n",
      "<class 'numpy.ndarray'>\n",
      "1\n"
     ]
    },
    {
     "data": {
      "text/plain": [
       "dtype('int32')"
      ]
     },
     "execution_count": 7,
     "metadata": {},
     "output_type": "execute_result"
    }
   ],
   "source": [
    "# Solution\n",
    "\n",
    "oned_array=np.random.randint(0,1,(1,20))\n",
    "print(oned_array)\n",
    "print(type(oned_array))\n",
    "print(len(oned_array))\n",
    "oned_array.dtype\n"
   ]
  },
  {
   "cell_type": "markdown",
   "metadata": {},
   "source": [
    "#### 7. Create a two dimensional array of ones of random row and column lengths with the data type of float32 "
   ]
  },
  {
   "cell_type": "code",
   "execution_count": 30,
   "metadata": {},
   "outputs": [
    {
     "name": "stdout",
     "output_type": "stream",
     "text": [
      "[[1. 0. 0.]\n",
      " [0. 1. 0.]\n",
      " [0. 0. 1.]]\n",
      "<class 'numpy.ndarray'>\n",
      "(3, 3)\n"
     ]
    },
    {
     "data": {
      "text/plain": [
       "dtype('float32')"
      ]
     },
     "execution_count": 30,
     "metadata": {},
     "output_type": "execute_result"
    }
   ],
   "source": [
    "# Solution\n",
    "twod_array=np.eye(3)\n",
    "print(twod_array)\n",
    "print(type(twod_array))\n",
    "print(twod_array.shape)\n",
    "twod_array=twod_array.astype('float32')\n",
    "twod_array.dtype"
   ]
  },
  {
   "cell_type": "markdown",
   "metadata": {},
   "source": [
    "#### 8. Create a matrix exactly as same as shown below and print its shape, type and dtype\n",
    "<img src = \"np_mat1.png\">"
   ]
  },
  {
   "cell_type": "code",
   "execution_count": 9,
   "metadata": {},
   "outputs": [
    {
     "name": "stdout",
     "output_type": "stream",
     "text": [
      "[[ 9 25 50 34 45]\n",
      " [ 3 34 34 65  2]\n",
      " [ 5  7  3 76  3]\n",
      " [ 7  8  6 54  6]\n",
      " [23 12  8  5  8]]\n",
      "(5, 5)\n",
      "int32\n"
     ]
    }
   ],
   "source": [
    "# Solution\n",
    "matrix=np.array([[9,25,50,34,45],[3,34,34,65,2],[5,7,3,76,3],[7,8,6,54,6],[23,12,8,5,8]])\n",
    "print(matrix)\n",
    "print(matrix.shape)\n",
    "type(matrix)\n",
    "print(matrix.dtype)"
   ]
  },
  {
   "cell_type": "markdown",
   "metadata": {},
   "source": [
    "#### 9. Access the center pixel of the matrix defined in the question no 8 ( Don't enter the row and column index explicitely)"
   ]
  },
  {
   "cell_type": "code",
   "execution_count": 10,
   "metadata": {},
   "outputs": [
    {
     "name": "stdout",
     "output_type": "stream",
     "text": [
      "3\n"
     ]
    }
   ],
   "source": [
    "# Solution\n",
    "shape=matrix.shape\n",
    "r=shape[0]\n",
    "r1=int(r/2)\n",
    "c=shape[1]\n",
    "c1=int(c/2)\n",
    "print(matrix[r1,c1])\n",
    "\n"
   ]
  },
  {
   "cell_type": "markdown",
   "metadata": {},
   "source": [
    "#### 10. Print the all the elements of 3rd row of the matrix"
   ]
  },
  {
   "cell_type": "code",
   "execution_count": 11,
   "metadata": {},
   "outputs": [
    {
     "data": {
      "text/plain": [
       "array([[ 5,  7,  3, 76,  3]])"
      ]
     },
     "execution_count": 11,
     "metadata": {},
     "output_type": "execute_result"
    }
   ],
   "source": [
    "# Solution\n",
    "matrix[2:3,:]\n",
    "\n"
   ]
  },
  {
   "cell_type": "markdown",
   "metadata": {},
   "source": [
    "#### 11. Print the all the elements of 4th columns of the matrix"
   ]
  },
  {
   "cell_type": "code",
   "execution_count": 12,
   "metadata": {},
   "outputs": [
    {
     "data": {
      "text/plain": [
       "array([[34],\n",
       "       [65],\n",
       "       [76],\n",
       "       [54],\n",
       "       [ 5]])"
      ]
     },
     "execution_count": 12,
     "metadata": {},
     "output_type": "execute_result"
    }
   ],
   "source": [
    "# Solution\n",
    "matrix[:,3:4]\n",
    "\n"
   ]
  },
  {
   "cell_type": "markdown",
   "metadata": {},
   "source": [
    "#### 12. Print the 4 corner pixels of the matrix"
   ]
  },
  {
   "cell_type": "code",
   "execution_count": 13,
   "metadata": {},
   "outputs": [
    {
     "name": "stdout",
     "output_type": "stream",
     "text": [
      "4 Corner Pixels ofthe matrix are:  9 45 23 8\n"
     ]
    }
   ],
   "source": [
    "# Solution\n",
    "shape=matrix.shape\n",
    "r=shape[0]\n",
    "c=shape[1]\n",
    "print(\"4 Corner Pixels ofthe matrix are: \",matrix[0,0],matrix[0,c-1],matrix[r-1,0],matrix[r-1,c-1])"
   ]
  },
  {
   "cell_type": "markdown",
   "metadata": {},
   "source": [
    "#### 13. Create three matrix m1,m2,m3 with the elements grouped in the figure below\n",
    "<img src = \"np_mat2.png\">"
   ]
  },
  {
   "cell_type": "code",
   "execution_count": 14,
   "metadata": {},
   "outputs": [
    {
     "name": "stdout",
     "output_type": "stream",
     "text": [
      "m1 : \n",
      " [[50 34]\n",
      " [34 65]]\n",
      "m2 : \n",
      " [[ 7  8]\n",
      " [23 12]]\n",
      "m3 : \n",
      " [[ 3 76  3]\n",
      " [ 6 54  6]\n",
      " [ 8  5  8]]\n"
     ]
    }
   ],
   "source": [
    "# Solution \n",
    "m1=matrix[0:2,2:4]\n",
    "m2=matrix[3:5,0:2]\n",
    "m3=matrix[2:5,2:5]\n",
    "print(\"m1 : \\n\",m1)\n",
    "print(\"m2 : \\n\",m2)\n",
    "print(\"m3 : \\n\",m3)"
   ]
  },
  {
   "cell_type": "markdown",
   "metadata": {},
   "source": [
    "#### 14. Reshape all the three matrix segmented in the above task in to three  1-dimensional vector."
   ]
  },
  {
   "cell_type": "code",
   "execution_count": 31,
   "metadata": {},
   "outputs": [
    {
     "name": "stdout",
     "output_type": "stream",
     "text": [
      "[50 34 34 65]\n",
      "[ 7  8 23 12]\n",
      "[ 3 76  3  6 54  6  8  5  8]\n"
     ]
    }
   ],
   "source": [
    "# Solution\n",
    "m1=m1.ravel()\n",
    "m2=m2.ravel()\n",
    "m3=m3.ravel()\n",
    "print(m1)\n",
    "print(m2)\n",
    "print(m3)"
   ]
  },
  {
   "cell_type": "markdown",
   "metadata": {},
   "source": [
    "#### 15. Concatenate the matrix m1 and m2 in both vertical and horizontal direction\n",
    "https://towardsdatascience.com/reshaping-numpy-arrays-in-python-a-step-by-step-pictorial-tutorial-aed5f471cf0b"
   ]
  },
  {
   "cell_type": "code",
   "execution_count": 16,
   "metadata": {},
   "outputs": [
    {
     "data": {
      "text/plain": [
       "array([[50, 34, 34, 65],\n",
       "       [ 7,  8, 23, 12]])"
      ]
     },
     "execution_count": 16,
     "metadata": {},
     "output_type": "execute_result"
    }
   ],
   "source": [
    "# Solution\n",
    "np.stack((m1,m2),axis=0)"
   ]
  },
  {
   "cell_type": "code",
   "execution_count": 32,
   "metadata": {},
   "outputs": [
    {
     "data": {
      "text/plain": [
       "array([[50,  7],\n",
       "       [34,  8],\n",
       "       [34, 23],\n",
       "       [65, 12]])"
      ]
     },
     "execution_count": 32,
     "metadata": {},
     "output_type": "execute_result"
    }
   ],
   "source": [
    "np.stack((m1,m2),axis=1)"
   ]
  },
  {
   "cell_type": "markdown",
   "metadata": {},
   "source": [
    "#### 16. Add, Subtract, multiply, divide the matrixes m1 and m2"
   ]
  },
  {
   "cell_type": "code",
   "execution_count": 17,
   "metadata": {},
   "outputs": [
    {
     "name": "stdout",
     "output_type": "stream",
     "text": [
      "Addition: \n",
      " [57 42 57 77]\n",
      "Subtraction: \n",
      " [43 26 11 53]\n",
      "Multiplication: \n",
      " [350 272 782 780]\n",
      "Division: \n",
      " [7.14285714 4.25       1.47826087 5.41666667]\n"
     ]
    }
   ],
   "source": [
    "# Solution\n",
    "print(\"Addition: \\n\",m1+m2)\n",
    "print(\"Subtraction: \\n\",m1-m2)\n",
    "print(\"Multiplication: \\n\",m1*m2)\n",
    "print(\"Division: \\n\",m1/m2)\n",
    "\n"
   ]
  },
  {
   "cell_type": "markdown",
   "metadata": {},
   "source": [
    "#### 17. Add the m1 with m3 by removing the first row and last column of m3"
   ]
  },
  {
   "cell_type": "code",
   "execution_count": 18,
   "metadata": {},
   "outputs": [
    {
     "name": "stdout",
     "output_type": "stream",
     "text": [
      "[[50 34]\n",
      " [34 65]\n",
      " [ 6 54]\n",
      " [ 8  5]]\n",
      "(4, 2)\n"
     ]
    }
   ],
   "source": [
    "# Solution\n",
    "m1=matrix[0:2,2:4]\n",
    "m3=matrix[2:5,2:5]\n",
    "m3a=m3[1:,:2]\n",
    "#print(m1.shape)\n",
    "#print(m3a.shape)\n",
    "#print(m1,m3a)\n",
    "rem=np.concatenate((m1,m3a))\n",
    "print(rem)\n",
    "print(rem.shape)"
   ]
  },
  {
   "cell_type": "markdown",
   "metadata": {},
   "source": [
    "#### 18. Form the matrix m4 by concatenating (as a new row) the vector [me1, me2] with the matrix m1, where me1 and me2 are the mean values of each column on m1."
   ]
  },
  {
   "cell_type": "code",
   "execution_count": 19,
   "metadata": {},
   "outputs": [
    {
     "name": "stdout",
     "output_type": "stream",
     "text": [
      "(2, 2)\n",
      "(1, 2)\n",
      "Matrix 4 is :\n",
      " [[50.  34. ]\n",
      " [34.  65. ]\n",
      " [42.  49.5]]\n"
     ]
    }
   ],
   "source": [
    "# Solution\n",
    "me1=m1.mean(axis=1)\n",
    "print(m1.shape)\n",
    "me1=me1.reshape((1,2))\n",
    "print(me1.shape)\n",
    "m4=np.concatenate((m1,me1))\n",
    "print(\"Matrix 4 is :\\n\",m4)"
   ]
  },
  {
   "cell_type": "markdown",
   "metadata": {},
   "source": [
    "#### 19. Perform the matrix multiplication between m3 and m4"
   ]
  },
  {
   "cell_type": "code",
   "execution_count": 20,
   "metadata": {},
   "outputs": [
    {
     "name": "stdout",
     "output_type": "stream",
     "text": [
      "[[ 3 76  3]\n",
      " [ 6 54  6]\n",
      " [ 8  5  8]]\n",
      "[[50.  34. ]\n",
      " [34.  65. ]\n",
      " [42.  49.5]]\n",
      "[[2860.  5190.5]\n",
      " [2388.  4011. ]\n",
      " [ 906.   993. ]]\n"
     ]
    }
   ],
   "source": [
    "# Solution\n",
    "print(m3)\n",
    "print(m4)\n",
    "\n",
    "print(np.matmul(m3,m4))\n",
    "\n"
   ]
  },
  {
   "cell_type": "markdown",
   "metadata": {},
   "source": [
    "#### 20. Compute the maximum and minimum value of mean, variance, standard deviation for each row of matrix created in question number 8."
   ]
  },
  {
   "cell_type": "code",
   "execution_count": 21,
   "metadata": {},
   "outputs": [
    {
     "name": "stdout",
     "output_type": "stream",
     "text": [
      "[[ 9 25 50 34 45]\n",
      " [ 3 34 34 65  2]\n",
      " [ 5  7  3 76  3]\n",
      " [ 7  8  6 54  6]\n",
      " [23 12  8  5  8]]\n",
      "max_mean is :  46.8\n",
      "min_mean is :  9.4\n",
      "max_var is :  629.36\n",
      "min_var is :  50.24\n",
      "max_std is :  25.09\n",
      "min_std is :  7.09\n"
     ]
    }
   ],
   "source": [
    "# Solution\n",
    "print(matrix)\n",
    "max_mean=max(matrix.mean(axis=0))\n",
    "min_mean=min(matrix.mean(axis=0))\n",
    "max_var=max(matrix.var(axis=0))\n",
    "min_var=min(matrix.var(axis=0))\n",
    "max_std=max(matrix.std(axis=0))\n",
    "min_std=min(matrix.std(axis=0))\n",
    "print(\"max_mean is : \", max_mean)\n",
    "print(\"min_mean is : \", min_mean)\n",
    "print(\"max_var is : \", max_var)\n",
    "print(\"min_var is : \", min_var.round(2))\n",
    "print(\"max_std is : \", max_std.round(2))\n",
    "print(\"min_std is : \", min_std.round(2))"
   ]
  },
  {
   "cell_type": "markdown",
   "metadata": {},
   "source": [
    "#### 21. Compute the average and strike rate for each player and sort it decending way (seperately for avg and strike rate)\n",
    "<img src = 'crick1.png'>"
   ]
  },
  {
   "cell_type": "code",
   "execution_count": 22,
   "metadata": {},
   "outputs": [
    {
     "name": "stdout",
     "output_type": "stream",
     "text": [
      "[['MSD' '54' '60' '10' '65']\n",
      " ['Kholi' '102' '2' '78' '32']\n",
      " ['Rohit' '3' '110' '1' '92']\n",
      " ['Rahul' '56' '6' '12' '42']\n",
      " ['Dhawan' '12' '8' '22' '11']]\n",
      "[['MSD' '50' '42' '22' '78']\n",
      " ['Kholi' '95' '8' '65' '43']\n",
      " ['Rohit' '9' '100' '7' '101']\n",
      " ['Rahul' '27' '3' '11' '31']\n",
      " ['Dhawan' '24' '20' '36' '27']]\n"
     ]
    }
   ],
   "source": [
    "# Solution \n",
    "runs=np.array([['MSD',54,60,10,65],['Kholi',102,2,78,32],['Rohit',3,110,1,92],['Rahul',56,6,12,42],['Dhawan',12,8,22,11]])\n",
    "balls=np.array([['MSD',50,42,22,78],['Kholi',95,8,65,43],['Rohit',9,100,7,101],['Rahul',27,3,11,31],['Dhawan',24,20,36,27]])\n",
    "print(runs)\n",
    "print(balls)"
   ]
  },
  {
   "cell_type": "code",
   "execution_count": 23,
   "metadata": {},
   "outputs": [
    {
     "name": "stdout",
     "output_type": "stream",
     "text": [
      "The average runs in the given 4 matches are : \n",
      " [['MSD' '54' '60' '10' '65' '47.25']\n",
      " ['Kholi' '102' '2' '78' '32' '53.5']\n",
      " ['Rohit' '3' '110' '1' '92' '51.5']\n",
      " ['Rahul' '56' '6' '12' '42' '29.0']\n",
      " ['Dhawan' '12' '8' '22' '11' '13.25']]\n"
     ]
    },
    {
     "data": {
      "text/plain": [
       "array([[13.25],\n",
       "       [29.  ],\n",
       "       [51.5 ],\n",
       "       [53.5 ],\n",
       "       [47.25]])"
      ]
     },
     "execution_count": 23,
     "metadata": {},
     "output_type": "execute_result"
    }
   ],
   "source": [
    "avg_runs=runs[:,1:]\n",
    "avg_runs=avg_runs.astype('int32')\n",
    "me1=avg_runs.mean(axis=1)\n",
    "me1=me1.reshape(5,1)\n",
    "avg=np.concatenate((runs,me1),axis=1)\n",
    "print('The average runs in the given 4 matches are : \\n',avg)\n",
    "sortedsr=np.sort(me1)[::-1]\n",
    "sortedsr"
   ]
  },
  {
   "cell_type": "code",
   "execution_count": 37,
   "metadata": {},
   "outputs": [
    {
     "name": "stdout",
     "output_type": "stream",
     "text": [
      "The strike rate in the guven 4 matches are : \n",
      " [['MSD' '50' '42' '22' '78' '98.44']\n",
      " ['Kholi' '95' '8' '65' '43' '101.42']\n",
      " ['Rohit' '9' '100' '7' '101' '94.93']\n",
      " ['Rahul' '27' '3' '11' '31' '161.11']\n",
      " ['Dhawan' '24' '20' '36' '27' '49.53']]\n"
     ]
    },
    {
     "data": {
      "text/plain": [
       "array([[ 49.53],\n",
       "       [161.11],\n",
       "       [ 94.93],\n",
       "       [101.42],\n",
       "       [ 98.44]])"
      ]
     },
     "execution_count": 37,
     "metadata": {},
     "output_type": "execute_result"
    }
   ],
   "source": [
    "strike_rate=balls[:,1:]\n",
    "strike_rate=strike_rate.astype('int32')\n",
    "me2=(avg_runs.sum(axis=1)/strike_rate.sum(axis=1))*100\n",
    "me2=me2.reshape(5,1)\n",
    "me2=me2.round(2)\n",
    "strike=np.concatenate((balls,me2),axis=1)\n",
    "print('The strike rate in the guven 4 matches are : \\n',strike)\n",
    "sortedsr=np.sort(me2)[::-1]\n",
    "sortedsr"
   ]
  },
  {
   "cell_type": "markdown",
   "metadata": {},
   "source": [
    "#### 22. The students mark was recorded in a numpy array: marks = np.array([65,84,47,56,89,98,48,77,80,39]).  Cutoff for pass is 50 marks. Write the logic to print the number of students passed and failed. "
   ]
  },
  {
   "cell_type": "code",
   "execution_count": 25,
   "metadata": {},
   "outputs": [
    {
     "name": "stdout",
     "output_type": "stream",
     "text": [
      "[ True  True False  True  True  True False  True  True False]\n",
      "Number of students passed are :  7\n",
      "Number of students failed are :  3\n"
     ]
    }
   ],
   "source": [
    "# Solution\n",
    "marks = np.array([65,84,47,56,89,98,48,77,80,39])\n",
    "print(marks>50)\n",
    "passed=(marks>50).sum()\n",
    "print('Number of students passed are : ',passed)\n",
    "failed=(marks<50).sum()\n",
    "print('Number of students failed are : ',failed)"
   ]
  },
  {
   "cell_type": "markdown",
   "metadata": {},
   "source": [
    "#### 23. The class incharge decided to give a mercy mark of 5 for those who scored between 45 and 49. Also the bonus of 5 marks awarded to the students who scored more than 80. Print all the student marks and compute the increase in the pass percentage of class. Any score more than 100 must be recorded as only 100."
   ]
  },
  {
   "cell_type": "code",
   "execution_count": 26,
   "metadata": {},
   "outputs": [
    {
     "name": "stdout",
     "output_type": "stream",
     "text": [
      "The Original marks are :  [65 84 47 56 89 98 48 77 80 39]\n",
      "The Updated marks are :  [ 65  89  52  56  94 100  53  77  80  39]\n",
      "The Pass Percentage of Original marks is :  70.0\n",
      "The Pass Percentage of Updated marks is :  90.0\n",
      "The Increase in Pass Percentage is :  20.0\n"
     ]
    }
   ],
   "source": [
    "# Solution\n",
    "marks = np.array([65,84,47,56,89,98,48,77,80,39])\n",
    "passper1=(passed/len(marks))*100\n",
    "mark_copy=marks.copy()\n",
    "for i in range(len(mark_copy)):\n",
    "    if mark_copy[i]>45 and mark_copy[i]<49:\n",
    "        mark_copy[i]+=5\n",
    "    elif mark_copy[i]>80:\n",
    "        mark_copy[i]+=5\n",
    "mark_copy[mark_copy>100]=100\n",
    "passed1=(mark_copy>50).sum()\n",
    "passper2=(passed1/len(mark_copy))*100\n",
    "\n",
    "print('The Original marks are : ',marks)\n",
    "print('The Updated marks are : ',mark_copy)\n",
    "print('The Pass Percentage of Original marks is : ',passper1)\n",
    "print('The Pass Percentage of Updated marks is : ',passper2)\n",
    "print('The Increase in Pass Percentage is : ',passper2-passper1)"
   ]
  },
  {
   "cell_type": "markdown",
   "metadata": {},
   "source": [
    "#### 24. Print the time taken for performing the following operation using list and numpy array\n",
    "####       (x(i)^2 +8) / y(i),   where x and y are real integers from 1 to 60000"
   ]
  },
  {
   "cell_type": "code",
   "execution_count": 27,
   "metadata": {},
   "outputs": [
    {
     "name": "stdout",
     "output_type": "stream",
     "text": [
      "Wall time: 79.7 ms\n",
      "Time taken for performing the list operation :  0.07965898513793945\n",
      "Wall time: 40.2 ms\n",
      "Time taken for performing the Numpy operation :  0.0401918888092041\n"
     ]
    }
   ],
   "source": [
    "# Solution\n",
    "    \n",
    "import time\n",
    "def lst():\n",
    "    x=list(range(1,60000))\n",
    "    y=list(range(1,60000))\n",
    "    res=[]\n",
    "    for i in range(len(x)):\n",
    "        res.append((((x[i]**2)+8)/y[i]))\n",
    "    \n",
    "def npy():\n",
    "    x=np.array(range(1,60000))\n",
    "    y=np.array(range(1,60000))\n",
    "    res=((x**2)+8)/y\n",
    "    \n",
    "start=time.time()\n",
    "%time lst()\n",
    "end=time.time()\n",
    "print(\"Time taken for performing the list operation : \",end-start)\n",
    "start1=time.time()\n",
    "%time npy()\n",
    "end1=time.time()\n",
    "print(\"Time taken for performing the Numpy operation : \",end1-start1)\n"
   ]
  },
  {
   "cell_type": "markdown",
   "metadata": {},
   "source": [
    "#### 25. Create a Github account and upload your solution with the short write-up on Numpy"
   ]
  },
  {
   "cell_type": "code",
   "execution_count": 28,
   "metadata": {},
   "outputs": [],
   "source": [
    "# Solution\n",
    "\n",
    "\n",
    "\n"
   ]
  }
 ],
 "metadata": {
  "kernelspec": {
   "display_name": "Python 3",
   "language": "python",
   "name": "python3"
  },
  "language_info": {
   "codemirror_mode": {
    "name": "ipython",
    "version": 3
   },
   "file_extension": ".py",
   "mimetype": "text/x-python",
   "name": "python",
   "nbconvert_exporter": "python",
   "pygments_lexer": "ipython3",
   "version": "3.8.8"
  }
 },
 "nbformat": 4,
 "nbformat_minor": 2
}
